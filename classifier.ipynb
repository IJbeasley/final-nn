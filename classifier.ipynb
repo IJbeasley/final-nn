{
 "cells": [
  {
   "cell_type": "markdown",
   "metadata": {},
   "source": [
    "# Classifier"
   ]
  },
  {
   "cell_type": "code",
   "execution_count": 99,
   "metadata": {},
   "outputs": [],
   "source": [
    "# required functions from nn module\n",
    "from nn.io import read_text_file, read_fasta_file\n",
    "from nn.nn import NeuralNetwork\n",
    "from nn.preprocess import one_hot_encode_seqs,  sample_seqs\n",
    "\n",
    "import numpy as np\n",
    "\n",
    "# for splitting data into training and testing sets\n",
    "from sklearn.model_selection import train_test_split"
   ]
  },
  {
   "cell_type": "markdown",
   "metadata": {},
   "source": [
    "## step 1: Load data"
   ]
  },
  {
   "cell_type": "code",
   "execution_count": 112,
   "metadata": {},
   "outputs": [
    {
     "name": "stdout",
     "output_type": "stream",
     "text": [
      "Number of Rap1 positives: 137\n",
      "Number of Rap1 negatives: 3163\n",
      "\n",
      " First positive example: ACATCCGTGCACCTCCG\n",
      "First negative example: CTTCATGTCAGCCTGCACTTCTGGGTCGTTGAAGTTTCTACCGATCAAACGCTTAGCGTCGAAAACGGTATTCGAAGGATTCATAGCAGCTTGATTCTTAGCAGCATCACCAATCAATCTTTCAGTGTCAGTGAAAGCGACAAAAGATGGAGTGGTTCTGTTACCTTGATCGTTGGCAATAATGTCCACACGATCATTAGCAAAGTGAGCAACACACGAGTATGTTGTACCTAAATCAATACCGACAGCTTTTGACATATTATCTGTTATTTACTTGAATTTTTGTTTCTTGTAATACTTGATTACTTTTCTTTTGATGTGCTTATCTTACAAATAGAGAAAATAAAACAACTTAAGTAAGAATTGGGAAACGAAACTACAACTCAATCCCTTCTCGAAGATACATCAATCCACCCCTTATATAACCTTGAAGTCCTCGAAACGATCAGCTAATCTAAATGGCCCCCCTTCTTTTTGGGTTCTTTCTCTCCCTTTTGCCGCCGATGGAACGTTCTGGAAAAAGAAGAATAATTTAATTACTTTCTCAACTAAAATCTGGAGAAAAAACGCAAATGACAGCTTCTAAACGTTCCGTGTGCTTTCTTTCTAGAATGTTCTGGAAAGTTTACAACAATCCACAAGAACGAAAATGCCGTTGACAATGATGAAACCATCATCCACACACCGCGCACACGTGCTTTATTTCTTTTTCTGAATTTTTTTTTTCCGCCATTTTCAACCAAGGAAATTTTTTTTCTTAGGGCTCAGAACCTGCAGGTGAAGAAGCGCTTTAGAAATCAAAGCACAACGTAACAATTTGTCGACAACCGAGCCTTTGAAGAAAAAATTTTTCACATTGTCGCCTCTAAATAAATAGTTTAAGGTTATCTACCCACTATATTTAGTTGGTTCTTTTTTTTTTCCTTCTACTCTTTATCTTTTTACCTCATGCTTTCTACCTTTCAGCACTGAAGAGTCCAACCGAATATATACACACATA\n",
      "\n",
      " Average positive sequence length: 17.0\n",
      "Average negative sequence length: 999.1454315523238\n",
      "\n",
      " Min positive sequence length: 17\n",
      "Max positive sequence length: 17\n",
      "Min negative sequence length: 52\n",
      "Max negative sequence length: 1000\n"
     ]
    }
   ],
   "source": [
    "# read in the 137 positive Rap1 motif examples.\n",
    "rap1_pos = read_text_file(\"data/rap1-lieb-positives.txt\")\n",
    "\n",
    "# read in all the negative Rap1 motif  examples\n",
    "rap1_neg = read_fasta_file(\"data/yeast-upstream-1k-negative.fa\")\n",
    "\n",
    "print(\"Number of Rap1 positives: \" + str(len(rap1_pos)))\n",
    "print(\"Number of Rap1 negatives: \" + str(len(rap1_neg)))\n",
    "\n",
    "print(\"\\n First positive example: \" + rap1_pos[0])\n",
    "print(\"First negative example: \" + rap1_neg[0])\n",
    "\n",
    "# calculate the average length of the sequences\n",
    "pos_lengths = [len(seq) for seq in rap1_pos]\n",
    "neg_lengths = [len(seq) for seq in rap1_neg]\n",
    "print(\"\\n Average positive sequence length: \" + str(np.mean(pos_lengths)))\n",
    "print(\"Average negative sequence length: \" + str(np.mean(neg_lengths)))\n",
    "\n",
    "# calculate min and max lengths of the sequences\n",
    "print(\"\\n Min positive sequence length: \" + str(np.min(pos_lengths)))\n",
    "print(\"Max positive sequence length: \" + str(np.max(pos_lengths)))\n",
    "print(\"Min negative sequence length: \" + str(np.min(neg_lengths)))\n",
    "print(\"Max negative sequence length: \" + str(np.max(neg_lengths)))"
   ]
  },
  {
   "cell_type": "markdown",
   "metadata": {},
   "source": [
    "## step 2: Balance your classes using your sample_seq function and explain why you chose the sampling scheme you did."
   ]
  },
  {
   "cell_type": "code",
   "execution_count": 113,
   "metadata": {},
   "outputs": [
    {
     "name": "stdout",
     "output_type": "stream",
     "text": [
      "New min length of negative sequences: 17\n",
      "New max length of negative sequences: 17\n",
      "\n",
      " Number of positive examples are sampling: 1370\n",
      "Number of negative examples are sampling: 1370\n"
     ]
    }
   ],
   "source": [
    "# from min and max calculations in above cell all rap1 positive sequences are 17 bp long, shorter than every negative sequence\n",
    "# so we will need to trim the negative sequences to 17 bp \n",
    "\n",
    "# Trim the negative sequences to 17 bp - by randomly selecting a 17 bp region from each sequence\n",
    "# Choose random region - rather than just the first or last 17 bp - to avoid biasing the different regions of the sequence\n",
    "# e.g. if the starts of these sequences are biased in some way, then always selecting the first 17 bp would bias the negative sequences\n",
    "# in a way that is not present in the positive sequences\n",
    "np.random.seed(42)\n",
    "#rap1_neg = [seq[np.random.randint(0, len(seq) - 17):np.random.randint(17, len(seq))] for seq in rap1_neg]\n",
    "rap1_neg = [seq[start : start + 17] for seq in rap1_neg if len(seq) >= 17 \n",
    "                    for start in [np.random.randint(0, len(seq) - 16)]]\n",
    "\n",
    "# Check that the lengths are now all 17 bp\n",
    "neg_lengths = [len(seq) for seq in rap1_neg]\n",
    "print(\"New min length of negative sequences: \" + str(np.min(neg_lengths)))\n",
    "print(\"New max length of negative sequences: \" + str(np.max(neg_lengths)))\n",
    "\n",
    "# Now we have sequences of the same length, let's balance the classes\n",
    "\n",
    "# the class imbalance here is huge, so we will first downsample the negative class a little, as otherwise we would have to sample the positive class many times\n",
    "# to balance the classes (creating long training, and weird biases) - let's make the imbalance 1:10\n",
    "sampled_neg_indices = np.random.choice(len(rap1_neg), len(rap1_pos) * 10)\n",
    "rap1_neg = [rap1_neg[i] for i in sampled_neg_indices]\n",
    "\n",
    "\n",
    "# Now let's combine positive and negative classes \n",
    "# so that we can balance the classes by sampling with replacement from the positive class\n",
    "rap1 = rap1_pos  + rap1_neg\n",
    "labels = [1] * len(rap1_pos) + [0] * len(rap1_neg)\n",
    "\n",
    "# Up sample the positive class by sampling with replacement\n",
    "rap1, labels = sample_seqs(rap1, labels)\n",
    "\n",
    "# Convert to NumPy arrays\n",
    "rap1 = np.array(rap1)\n",
    "labels = np.array(labels)\n",
    "\n",
    "# Generate a shuffled index\n",
    "shuffle_indices = np.random.permutation(len(rap1))\n",
    "\n",
    "# Apply the shuffled indices\n",
    "rap1_shuffled = rap1[shuffle_indices]\n",
    "labels_shuffled = labels[shuffle_indices]\n",
    "\n",
    "# Check class balance\n",
    "print(\"\\n Number of positive examples are sampling: \" + str(np.sum(labels_shuffled)))\n",
    "print(\"Number of negative examples are sampling: \" + str(len(labels_shuffled) - np.sum(labels_shuffled)))"
   ]
  },
  {
   "cell_type": "markdown",
   "metadata": {},
   "source": [
    "## step 3: One-hot encode the data using your one_hot_encode_seqs function."
   ]
  },
  {
   "cell_type": "code",
   "execution_count": 114,
   "metadata": {},
   "outputs": [
    {
     "name": "stdout",
     "output_type": "stream",
     "text": [
      "One hot encoding changed number of sequences feature matrix shape from: 2740 to 2740\n",
      "For first sequence, one-hot-encoding changed the length from: 17 to 68\n"
     ]
    }
   ],
   "source": [
    "X = one_hot_encode_seqs(rap1_shuffled)\n",
    "y = labels_shuffled\n",
    "print(\"One hot encoding changed number of sequences feature matrix shape from: \" + str(len(rap1_shuffled)) + \" to \" + str(len(X )))\n",
    "print(\"For first sequence, one-hot-encoding changed the length from: \" + str(len(rap1_shuffled[0])) + \" to \" + str(len(X[0])))"
   ]
  },
  {
   "cell_type": "markdown",
   "metadata": {},
   "source": [
    "## step 4: Split the data into training and validation sets."
   ]
  },
  {
   "cell_type": "code",
   "execution_count": 115,
   "metadata": {},
   "outputs": [],
   "source": [
    "X_train, X_val, y_train, y_val = train_test_split(X, labels_shuffled, test_size = 0.1, random_state =42)"
   ]
  },
  {
   "cell_type": "markdown",
   "metadata": {},
   "source": [
    "## step 5: Generate an instance of your NeuralNetwork class with an appropriate architecture.\n",
    "## step 6: Train your neural network on the training data.\n",
    "\n",
    "Generating an instance of NeuralNetwork class requires choosing the below parameters: \n",
    "- nn_arch (neural net architecture), including dimensions and activation function per layer\n",
    "- lr (learning rate)\n",
    "- batch_size (size of mini-batches used for training)\n",
    "- loss_function (mean squared error or binary cross entropy)\n",
    "- epochs (max number for training)\n",
    "\n",
    "### How did I select hyperparameter values?\n",
    "\n",
    "For **epochs**: I initially choose a large number (500) as training for this dataset doesn't take a prohibitatively long time for this each . I then doubled check that this number was sufficent by looking at the plot of validation and training loss per epoch. since the loss appears to converge (not change much over the last few epochs), then the number of epochs chosen was likely appropriate. \n",
    "\n",
    "For **loss_function**: I chose bce instead of mse as the data we trying to predict / replicate is binary (i.e. a classification  not regression problem) where this loss function is more appropriate.\n",
    "\n",
    "For **batch_size**: I knew I needed to choose a small enough batch size (relative to the size of the training dataset) so I could perform training within the memory constraints of my laptop. However, the batch size also needed to be large enough to prevent stochasticity from inhibiting training.  I thus took inspiration from the default auto setting in sklearn's MLPRegressor function (https://scikit-learn.org/stable/modules/generated/sklearn.neural_network.MLPRegressor.html#sklearn.neural_network.MLPRegressor), and initially set batch size as 200. I then measured the time it took for the model to train on my laptop, and the checked the below plot loss per epoch of training and validation. since the time it took for the model to train was not prohibitative, and the loss per epoch didn't 'bounce' around a lot, I thought this batch size was acceptable. However, in the future, performing a grid search to select a value would be ideal.   \n",
    "\n",
    "For **learning_rate**: I took inspiration from the default setting in sklearn's MLPRegressor function (https://scikit-learn.org/stable/modules/generated/sklearn.neural_network.MLPRegressor.html#sklearn.neural_network.MLPRegressor), and initially set the learning rate to be 0.001. similarly, in the future, performing a grid search with at least a few other learning rates (0.01, 0.001, 0.0001) to select a value would be ideal.  \n",
    "\n",
    "For **nn_arch**: \n",
    "\n",
    "since we are trying to predict postive or negative Rap1, I chose 'sigmoid' as the activation function for the output layer as it makes it obvious to decided where to make the threshold of positive and negative values (since it restricts values between zero and one). Then, for all all hidden layers, I set the activation function to be 'relu'. I chose this as 'relu' introduces sparsity which can aid neural networks in classification tasks. \n",
    "\n",
    "For the purposes of this assignment I chose a simple neural archecture of 3 layers. The first layer was of 17 neurons, corresponding to the number of nucleotide bases (before one-hot-encoding), the second layer was of 4 neurons (the smallest tf motif length), and the last layer was of one neuron (as we are doing binary classification). "
   ]
  },
  {
   "cell_type": "code",
   "execution_count": 116,
   "metadata": {},
   "outputs": [
    {
     "ename": "TypeError",
     "evalue": "'int' object is not subscriptable",
     "output_type": "error",
     "traceback": [
      "\u001b[1;31m---------------------------------------------------------------------------\u001b[0m",
      "\u001b[1;31mTypeError\u001b[0m                                 Traceback (most recent call last)",
      "Cell \u001b[1;32mIn[116], line 20\u001b[0m\n\u001b[0;32m     17\u001b[0m loss_function \u001b[38;5;241m=\u001b[39m \u001b[38;5;124m\"\u001b[39m\u001b[38;5;124mbce\u001b[39m\u001b[38;5;124m\"\u001b[39m\n\u001b[0;32m     19\u001b[0m \u001b[38;5;66;03m# Initialize the neural network structure\u001b[39;00m\n\u001b[1;32m---> 20\u001b[0m nn_model \u001b[38;5;241m=\u001b[39m \u001b[43mNeuralNetwork\u001b[49m\u001b[43m(\u001b[49m\u001b[43mnn_arch\u001b[49m\u001b[43m \u001b[49m\u001b[38;5;241;43m=\u001b[39;49m\u001b[43m \u001b[49m\u001b[43mnn_arch\u001b[49m\u001b[43m,\u001b[49m\u001b[43m \u001b[49m\u001b[43mlr\u001b[49m\u001b[43m \u001b[49m\u001b[38;5;241;43m=\u001b[39;49m\u001b[43m \u001b[49m\u001b[43mlr\u001b[49m\u001b[43m,\u001b[49m\u001b[43m \u001b[49m\u001b[43mepochs\u001b[49m\u001b[43m \u001b[49m\u001b[38;5;241;43m=\u001b[39;49m\u001b[43m \u001b[49m\u001b[43mepochs\u001b[49m\u001b[43m,\u001b[49m\u001b[43m \u001b[49m\u001b[43mbatch_size\u001b[49m\u001b[43m \u001b[49m\u001b[38;5;241;43m=\u001b[39;49m\u001b[43m \u001b[49m\u001b[43mbatch_size\u001b[49m\u001b[43m,\u001b[49m\u001b[43m \u001b[49m\u001b[43mloss_function\u001b[49m\u001b[38;5;241;43m=\u001b[39;49m\u001b[43mloss_function\u001b[49m\u001b[43m,\u001b[49m\n\u001b[0;32m     21\u001b[0m \u001b[43m                                              \u001b[49m\u001b[43mseed\u001b[49m\u001b[43m \u001b[49m\u001b[38;5;241;43m=\u001b[39;49m\u001b[43m \u001b[49m\u001b[38;5;241;43m42\u001b[39;49m\n\u001b[0;32m     22\u001b[0m \u001b[43m                                              \u001b[49m\u001b[43m)\u001b[49m\n",
      "File \u001b[1;32mc:\\Users\\ijfbe\\SSD_Documents\\final-nn\\nn\\nn.py:52\u001b[0m, in \u001b[0;36mNeuralNetwork.__init__\u001b[1;34m(self, nn_arch, lr, seed, batch_size, epochs, loss_function)\u001b[0m\n\u001b[0;32m     49\u001b[0m \u001b[38;5;28mself\u001b[39m\u001b[38;5;241m.\u001b[39m_batch_size \u001b[38;5;241m=\u001b[39m batch_size\n\u001b[0;32m     51\u001b[0m \u001b[38;5;66;03m# Initialize the parameter dictionary for use in training\u001b[39;00m\n\u001b[1;32m---> 52\u001b[0m \u001b[38;5;28mself\u001b[39m\u001b[38;5;241m.\u001b[39m_param_dict \u001b[38;5;241m=\u001b[39m \u001b[38;5;28;43mself\u001b[39;49m\u001b[38;5;241;43m.\u001b[39;49m\u001b[43m_init_params\u001b[49m\u001b[43m(\u001b[49m\u001b[43m)\u001b[49m\n",
      "File \u001b[1;32mc:\\Users\\ijfbe\\SSD_Documents\\final-nn\\nn\\nn.py:76\u001b[0m, in \u001b[0;36mNeuralNetwork._init_params\u001b[1;34m(self)\u001b[0m\n\u001b[0;32m     74\u001b[0m \u001b[38;5;28;01mfor\u001b[39;00m idx, layer \u001b[38;5;129;01min\u001b[39;00m \u001b[38;5;28menumerate\u001b[39m(\u001b[38;5;28mself\u001b[39m\u001b[38;5;241m.\u001b[39march):\n\u001b[0;32m     75\u001b[0m     layer_idx \u001b[38;5;241m=\u001b[39m idx \u001b[38;5;241m+\u001b[39m \u001b[38;5;241m1\u001b[39m\n\u001b[1;32m---> 76\u001b[0m     input_dim \u001b[38;5;241m=\u001b[39m \u001b[43mlayer\u001b[49m\u001b[43m[\u001b[49m\u001b[38;5;124;43m'\u001b[39;49m\u001b[38;5;124;43minput_dim\u001b[39;49m\u001b[38;5;124;43m'\u001b[39;49m\u001b[43m]\u001b[49m\n\u001b[0;32m     77\u001b[0m     output_dim \u001b[38;5;241m=\u001b[39m layer[\u001b[38;5;124m'\u001b[39m\u001b[38;5;124moutput_dim\u001b[39m\u001b[38;5;124m'\u001b[39m]\n\u001b[0;32m     78\u001b[0m     param_dict[\u001b[38;5;124m'\u001b[39m\u001b[38;5;124mW\u001b[39m\u001b[38;5;124m'\u001b[39m \u001b[38;5;241m+\u001b[39m \u001b[38;5;28mstr\u001b[39m(layer_idx)] \u001b[38;5;241m=\u001b[39m np\u001b[38;5;241m.\u001b[39mrandom\u001b[38;5;241m.\u001b[39mrandn(output_dim, input_dim) \u001b[38;5;241m*\u001b[39m \u001b[38;5;241m0.1\u001b[39m\n",
      "\u001b[1;31mTypeError\u001b[0m: 'int' object is not subscriptable"
     ]
    }
   ],
   "source": [
    "# needs to be a 64x16x64 autoencoder architecture\n",
    "nn_arch = {2: [{\"input_dim\": 68, \"output_dim\": 17 , \"activation\": \"relu\"},\n",
    "                      {\"input_dim\": 17, \"output_dim\": 4, \"activation\": \"relu\"},\n",
    "                      {\"input_dim\": 4, \"output_dim\": 1, \"activation\": \"relu\"}]\n",
    "                  }\n",
    "\n",
    "#batch size\n",
    "batch_size = 200\n",
    "\n",
    "# learning rate\n",
    "lr = 0.001\n",
    "\n",
    "# number of epochs\n",
    "epochs = 500\n",
    "\n",
    "# loss function\n",
    "loss_function = \"bce\"\n",
    "\n",
    "# Initialize the neural network structure\n",
    "nn_model = NeuralNetwork(nn_arch = nn_arch, lr = lr, epochs = epochs, batch_size = batch_size, loss_function=loss_function,\n",
    "                                              seed = 42\n",
    "                                              )"
   ]
  },
  {
   "cell_type": "markdown",
   "metadata": {},
   "source": [
    "## Plot your training and validation loss by epoch.\n",
    "### Report the accuracy of your classifier on your validation dataset."
   ]
  },
  {
   "cell_type": "code",
   "execution_count": null,
   "metadata": {},
   "outputs": [],
   "source": []
  },
  {
   "cell_type": "markdown",
   "metadata": {},
   "source": [
    "## Explain your choice of loss function and hyperparameters."
   ]
  },
  {
   "cell_type": "code",
   "execution_count": 13,
   "metadata": {},
   "outputs": [
    {
     "name": "stdout",
     "output_type": "stream",
     "text": [
      "[-0.27777778 -0.27777778 -0.3125     -0.3125    ]\n"
     ]
    }
   ],
   "source": [
    "nn_bce_eg_model  = NeuralNetwork(nn_arch = [{'input_dim': 4, 'output_dim': 2, 'activation': 'relu'},\n",
    "                                                                          {'input_dim': 2, 'output_dim': 1, 'activation': 'relu'}],\n",
    "                                                    lr = 0.5, \n",
    "                                                    seed = 42, \n",
    "                                                    batch_size = 5, \n",
    "                                                    epochs = 1, \n",
    "                                                    loss_function='bce'\n",
    "                                                    )\n",
    "\n",
    "# Create own weights and biases for the neural network\n",
    "nn_bce_eg_model._param_dict = {\"W1\": np.array([[0.5, 1, 5], [5, 0.5, 1]]),\n",
    "                                                      \"b1\": np.array([[1], [1]]),\n",
    "                                                      \"W2\": np.array([[2, 1]]),\n",
    "                                                      \"b2\": np.array([[1]])\n",
    "                                                     }\n",
    "\n",
    "y = np.array([1, 0, 1, 0])\n",
    "y_hat = np.array([0.9, 0.1, 0.8, 0.2])\n",
    "   \n",
    "# Calculate the binary cross entropy backpropagation\n",
    "bce_backprop = nn_bce_eg_model._binary_cross_entropy_backprop(y = y, y_hat = y_hat)\n",
    "\n",
    "print(bce_backprop)\n",
    "\n",
    "true_bce_backprop = np.array([0.2778, 0.2778, 0.3125, 0.3125])\n",
    "\n"
   ]
  },
  {
   "cell_type": "code",
   "execution_count": null,
   "metadata": {},
   "outputs": [
    {
     "ename": "ValueError",
     "evalue": "shapes (1,2) and (1,2) not aligned: 2 (dim 1) != 1 (dim 0)",
     "output_type": "error",
     "traceback": [
      "\u001b[1;31m---------------------------------------------------------------------------\u001b[0m",
      "\u001b[1;31mValueError\u001b[0m                                Traceback (most recent call last)",
      "Cell \u001b[1;32mIn[20], line 5\u001b[0m\n\u001b[0;32m      2\u001b[0m b_curr \u001b[38;5;241m=\u001b[39m np\u001b[38;5;241m.\u001b[39marray([[\u001b[38;5;241m1\u001b[39m], [\u001b[38;5;241m2\u001b[39m]])\n\u001b[0;32m      3\u001b[0m A_prev \u001b[38;5;241m=\u001b[39m np\u001b[38;5;241m.\u001b[39marray([[\u001b[38;5;241m1\u001b[39m, \u001b[38;5;241m3\u001b[39m]])\n\u001b[1;32m----> 5\u001b[0m A_curr, Z_curr \u001b[38;5;241m=\u001b[39m \u001b[43mnn_bce_eg_model\u001b[49m\u001b[38;5;241;43m.\u001b[39;49m\u001b[43m_single_forward\u001b[49m\u001b[43m(\u001b[49m\u001b[43mW_curr\u001b[49m\u001b[43m,\u001b[49m\u001b[43m \u001b[49m\u001b[43mb_curr\u001b[49m\u001b[43m,\u001b[49m\u001b[43m \u001b[49m\u001b[43mA_prev\u001b[49m\u001b[43m,\u001b[49m\u001b[43m \u001b[49m\u001b[43mactivation\u001b[49m\u001b[43m \u001b[49m\u001b[38;5;241;43m=\u001b[39;49m\u001b[43m \u001b[49m\u001b[38;5;124;43m'\u001b[39;49m\u001b[38;5;124;43mrelu\u001b[39;49m\u001b[38;5;124;43m'\u001b[39;49m\u001b[43m)\u001b[49m\n\u001b[0;32m      6\u001b[0m \u001b[38;5;28mprint\u001b[39m(A_curr)\n\u001b[0;32m      7\u001b[0m \u001b[38;5;28mprint\u001b[39m(Z_curr)\n",
      "File \u001b[1;32mc:\\Users\\ijfbe\\SSD_Documents\\final-nn\\nn\\nn.py:110\u001b[0m, in \u001b[0;36mNeuralNetwork._single_forward\u001b[1;34m(self, W_curr, b_curr, A_prev, activation)\u001b[0m\n\u001b[0;32m     90\u001b[0m \u001b[38;5;250m\u001b[39m\u001b[38;5;124;03m\"\"\"\u001b[39;00m\n\u001b[0;32m     91\u001b[0m \u001b[38;5;124;03mThis method is used for a single forward pass on a single layer.\u001b[39;00m\n\u001b[0;32m     92\u001b[0m \n\u001b[1;32m   (...)\u001b[0m\n\u001b[0;32m    107\u001b[0m \u001b[38;5;124;03m        Current layer linear transformed matrix.\u001b[39;00m\n\u001b[0;32m    108\u001b[0m \u001b[38;5;124;03m\"\"\"\u001b[39;00m\n\u001b[0;32m    109\u001b[0m \u001b[38;5;66;03m# Linear transformed matrix = weight times input + bias\u001b[39;00m\n\u001b[1;32m--> 110\u001b[0m Z_curr \u001b[38;5;241m=\u001b[39m \u001b[43mnp\u001b[49m\u001b[38;5;241;43m.\u001b[39;49m\u001b[43mdot\u001b[49m\u001b[43m(\u001b[49m\u001b[43mW_curr\u001b[49m\u001b[43m,\u001b[49m\u001b[43m \u001b[49m\u001b[43mA_prev\u001b[49m\u001b[43m)\u001b[49m \u001b[38;5;241m+\u001b[39m b_curr\n\u001b[0;32m    112\u001b[0m \u001b[38;5;66;03m# then apply transformation with activation function: \u001b[39;00m\n\u001b[0;32m    113\u001b[0m \u001b[38;5;28;01mif\u001b[39;00m activation\u001b[38;5;241m.\u001b[39mlower() \u001b[38;5;241m==\u001b[39m \u001b[38;5;124m\"\u001b[39m\u001b[38;5;124msigmoid\u001b[39m\u001b[38;5;124m\"\u001b[39m:\n",
      "\u001b[1;31mValueError\u001b[0m: shapes (1,2) and (1,2) not aligned: 2 (dim 1) != 1 (dim 0)"
     ]
    }
   ],
   "source": [
    "    W_curr = np.array([[2, 1]])\n",
    "    b_curr = np.array([[1]])\n",
    "    A_prev = np.array([[1, 3]])\n",
    "\n",
    "    A_curr, Z_curr = nn_bce_eg_model._single_forward(W_curr, b_curr, A_prev, activation = 'relu')\n",
    "    print(A_curr)\n",
    "    print(Z_curr)"
   ]
  },
  {
   "cell_type": "code",
   "execution_count": 81,
   "metadata": {},
   "outputs": [
    {
     "name": "stdout",
     "output_type": "stream",
     "text": [
      "[[ 1.5 -0.5  0.5]\n",
      " [ 2.   1.5  1.5]]\n",
      "[[1.5 0.  0.5]\n",
      " [2.  1.5 1.5]]\n",
      "[[ 1.5 -0.5  0.5]\n",
      " [ 2.   1.5  1.5]]\n"
     ]
    }
   ],
   "source": [
    "W_curr = np.array([[2, 1, 0.5, 1], [1,0.5, 0.5, 1]]) #(m,n) where m is the number of neurons in the current layer and n is the number of neurons in the prior layer\n",
    "A_prev = np.array([[1, 3, 1, 0], [1,0, 1, 1], [1,2, 1,0]]).T # size (n,p) where n is the number of features (neurons in prior layer) and p is the number of examples\n",
    "b_curr = np.array([[-4],[-1]]) # size (m,1) where m is the number of neurons in the current layer\n",
    "\n",
    "\n",
    "#print(W_curr)\n",
    "#print(W_curr.shape[1])\n",
    "\n",
    "#print(A_prev.shape[0])\n",
    "#print(A_prev.shape)\n",
    "\n",
    "A_curr = np.dot(W_curr, A_prev) + b_curr\n",
    "print(A_curr)\n",
    "true_A_curr = np.array([[ 1.5, -0.5, 0.5], [ 2, 1.5, 1.5]])\n",
    "np.allclose(A_curr, true_A_curr, rtol = 1e-4)\n",
    "#1 / (1 + np.exp(-input))\n",
    "A_relu_curr, Z_curr = nn_bce_eg_model._single_forward(W_curr, b_curr, A_prev, activation='relu')\n",
    "print(A_relu_curr)\n",
    "print(Z_curr)"
   ]
  },
  {
   "cell_type": "code",
   "execution_count": 83,
   "metadata": {},
   "outputs": [
    {
     "name": "stdout",
     "output_type": "stream",
     "text": [
      "{'W1': array([[ 0.04967142, -0.01382643,  0.06476885,  0.15230299],\n",
      "       [-0.02341534, -0.0234137 ,  0.15792128,  0.07674347]]), 'b1': array([[-0.04694744],\n",
      "       [ 0.054256  ]]), 'W2': array([[-0.04634177, -0.04657298]]), 'b2': array([[0.02419623]])}\n"
     ]
    }
   ],
   "source": [
    "nn_mse_eg_model  = NeuralNetwork(nn_arch = [{'input_dim': 4, 'output_dim': 2, 'activation': 'relu'},\n",
    "                                                                          {'input_dim': 2, 'output_dim': 1, 'activation': 'relu'}],\n",
    "                                                        lr = 0.5, \n",
    "                                                        seed = 42, \n",
    "                                                        batch_size = 5, \n",
    "                                                        epochs = 1, \n",
    "                                                        loss_function='mse'\n",
    "                                                           )\n",
    "\n",
    "print(nn_mse_eg_model._param_dict)"
   ]
  },
  {
   "cell_type": "code",
   "execution_count": 35,
   "metadata": {},
   "outputs": [
    {
     "name": "stdout",
     "output_type": "stream",
     "text": [
      "[[2]\n",
      " [1]]\n",
      "[[1]\n",
      " [3]]\n",
      "[[3 7]\n",
      " [2 4]]\n"
     ]
    }
   ],
   "source": [
    "W_curr = np.array([[2, 1]])\n",
    "b_curr = np.array([[1]])\n",
    "A_prev = np.array([[1, 3]])\n",
    "print(W_curr.T)\n",
    "print(A_prev.T)\n",
    "#print(np.dot(W_curr, A_prev) + b_curr)\n",
    "#print(np.dot(W_curr, A_prev.T) + b_curr.T)\n",
    "print(np.dot(W_curr.T, A_prev) + b_curr)\n"
   ]
  },
  {
   "cell_type": "code",
   "execution_count": 23,
   "metadata": {},
   "outputs": [
    {
     "name": "stdout",
     "output_type": "stream",
     "text": [
      "[[5]]\n",
      "[[6 7]]\n"
     ]
    }
   ],
   "source": [
    "W_curr = np.array([[2, 1]])\n",
    "b_curr = np.array([[1], [2]])\n",
    "A_prev = np.array([[1, 3]])\n",
    "\n",
    "# Create own inputs\n",
    "W_curr = np.array([[10, 20, 30, 10, 20]])\n",
    "b_curr = np.array([[1]])\n",
    "A_prev = np.array([[1, 2, 3, 2, 1]])\n",
    "\n",
    "print(np.dot(A_prev, W_curr.T))\n",
    "print(np.dot(A_prev, W_curr.T) + b_curr.T)\n",
    "#np.dot(A_prev, W_curr.T) + b_curr"
   ]
  }
 ],
 "metadata": {
  "kernelspec": {
   "display_name": "GMM-Tute",
   "language": "python",
   "name": "python3"
  },
  "language_info": {
   "codemirror_mode": {
    "name": "ipython",
    "version": 3
   },
   "file_extension": ".py",
   "mimetype": "text/x-python",
   "name": "python",
   "nbconvert_exporter": "python",
   "pygments_lexer": "ipython3",
   "version": "3.12.8"
  }
 },
 "nbformat": 4,
 "nbformat_minor": 2
}
