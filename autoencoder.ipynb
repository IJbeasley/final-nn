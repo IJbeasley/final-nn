{
 "cells": [
  {
   "cell_type": "code",
   "execution_count": 1,
   "metadata": {},
   "outputs": [],
   "source": [
    "# packages to import\n",
    "import numpy as np\n",
    "\n",
    "# getting the digits dataset\n",
    "from sklearn.datasets import load_digits\n",
    "\n",
    "# our neural network class / module\n",
    "from nn.nn import NeuralNetwork\n",
    "\n",
    "# for plotting\n",
    "import matplotlib.pyplot as plt"
   ]
  },
  {
   "cell_type": "markdown",
   "metadata": {},
   "source": [
    "## step 1. Load the digits dataset"
   ]
  },
  {
   "cell_type": "code",
   "execution_count": null,
   "metadata": {},
   "outputs": [],
   "source": [
    "digits = load_digits()"
   ]
  },
  {
   "cell_type": "markdown",
   "metadata": {},
   "source": [
    "## step 2:  splt into training and validation sets"
   ]
  },
  {
   "cell_type": "code",
   "execution_count": null,
   "metadata": {},
   "outputs": [],
   "source": [
    "from sklearn.model_selection import train_test_split\n",
    "\n",
    "X_train, X_val, y_train, y_val = train_test_split(digits[\"data\"],\n",
    "                                                                       digits[\"target\"],\n",
    "                                                                       test_size = 0.1, \n",
    "                                                                       random_state = 42\n",
    "                                                                       )\n",
    "print(\"Training set: (instances, features) \", X_train.shape)\n",
    "print(\"Validation set: (instances, features) \", X_val.shape)"
   ]
  },
  {
   "cell_type": "markdown",
   "metadata": {},
   "source": [
    "## Generate an instance of your NeuralNetwork class with a 64x16x64 autoencoder architecture."
   ]
  },
  {
   "cell_type": "markdown",
   "metadata": {},
   "source": [
    "## Train your autoencoder on the training data."
   ]
  },
  {
   "cell_type": "code",
   "execution_count": null,
   "metadata": {},
   "outputs": [],
   "source": [
    "# Define the hyperparameters\n",
    "\n",
    "# neural network architecture\n",
    "# needs to be a 64x16x64 autoencoder architecture\n",
    "nn_arch = {2: [{\"input_dim\": 64, \"output_dim\": 16, \"activation\": \"relu\"},\n",
    "                      {\"input_dim\": 16, \"output_dim\": 64, \"activation\": \"relu\"}]\n",
    "                  }\n",
    "\n",
    "#batch size\n",
    "batch_size = 20\n",
    "\n",
    "# learning rate\n",
    "lr = 0.01\n",
    "\n",
    "# number of epochs\n",
    "epochs = 300\n",
    "\n",
    "# Initialize the neural network structure\n",
    "nn_model = NeuralNetwork(nn_arch = nn_arch, lr = lr, epochs = epochs, batch_size = batch_size)\n",
    "\n",
    "# Fit / train the model\n",
    "per_epoch_loss_train, per_epoch_loss_val = nn_model.fit(X_train, y_train)"
   ]
  },
  {
   "cell_type": "markdown",
   "metadata": {},
   "source": [
    "## Plot your training and validation loss by epoch."
   ]
  },
  {
   "cell_type": "code",
   "execution_count": null,
   "metadata": {},
   "outputs": [],
   "source": [
    "#below code adapted from wk 7 regression logreg.py  \n",
    "\n",
    "fig, axs = plt.subplots(2, figsize=(8, 8))\n",
    "fig.suptitle('Training Loss History')\n",
    "axs[0].plot(np.arange(len(per_epoch_loss_train)), per_epoch_loss_train)\n",
    "axs[0].set_title('Training')\n",
    "axs[1].plot(np.arange(len(per_epoch_loss_vall)), per_epoch_loss_val)\n",
    "axs[1].set_title('Validation')\n",
    "plt.xlabel('Epoch')\n",
    "fig.tight_layout()\n",
    "plt.show()"
   ]
  },
  {
   "cell_type": "markdown",
   "metadata": {},
   "source": [
    "## Quantify your average reconstruction error over the validation set."
   ]
  },
  {
   "cell_type": "code",
   "execution_count": null,
   "metadata": {},
   "outputs": [],
   "source": [
    "print(per_epoch_loss_val[-1])"
   ]
  }
 ],
 "metadata": {
  "kernelspec": {
   "display_name": "GMM-Tute",
   "language": "python",
   "name": "python3"
  },
  "language_info": {
   "codemirror_mode": {
    "name": "ipython",
    "version": 3
   },
   "file_extension": ".py",
   "mimetype": "text/x-python",
   "name": "python",
   "nbconvert_exporter": "python",
   "pygments_lexer": "ipython3",
   "version": "3.12.8"
  }
 },
 "nbformat": 4,
 "nbformat_minor": 2
}
