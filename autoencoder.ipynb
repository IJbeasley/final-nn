{
 "cells": [
  {
   "cell_type": "code",
   "execution_count": 1,
   "metadata": {},
   "outputs": [],
   "source": [
    "# packages to import\n",
    "import numpy as np\n",
    "\n",
    "# getting the digits dataset\n",
    "from sklearn.datasets import load_digits\n",
    "\n",
    "# our neural network class / module\n",
    "from nn.nn import NeuralNetwork\n",
    "\n",
    "# for plotting\n",
    "import matplotlib.pyplot as plt"
   ]
  },
  {
   "cell_type": "markdown",
   "metadata": {},
   "source": [
    "## step 1. Load the digits dataset"
   ]
  },
  {
   "cell_type": "code",
   "execution_count": 12,
   "metadata": {},
   "outputs": [
    {
     "name": "stdout",
     "output_type": "stream",
     "text": [
      "structure of digits dataset\n",
      "(1797, 64)\n",
      "(1797,)\n",
      "\n",
      " first sample\n",
      "[ 0.  0.  5. 13.  9.  1.  0.  0.  0.  0. 13. 15. 10. 15.  5.  0.  0.  3.\n",
      " 15.  2.  0. 11.  8.  0.  0.  4. 12.  0.  0.  8.  8.  0.  0.  5.  8.  0.\n",
      "  0.  9.  8.  0.  0.  4. 11.  0.  1. 12.  7.  0.  0.  2. 14.  5. 10. 12.\n",
      "  0.  0.  0.  0.  6. 13. 10.  0.  0.  0.]\n",
      "\n",
      " Plot first sample\n"
     ]
    },
    {
     "data": {
      "image/png": "[encoded data removed]",
      "text/plain": [
       "<Figure size 640x480 with 1 Axes>"
      ]
     },
     "metadata": {},
     "output_type": "display_data"
    }
   ],
   "source": [
    "digits = load_digits()\n",
    "\n",
    "print(\"structure of digits dataset\")\n",
    "print(digits.data.shape) # 1797 samples, 64 features  - X matrix\n",
    "print(digits.target.shape) # 1797 samples - y (labels) vector\n",
    "\n",
    "print(\"\\n first sample\")\n",
    "print(digits.data[0])  # first sample \n",
    "\n",
    "# plot the first sample\n",
    "print(\"\\n Plot first sample\")\n",
    "plt.imshow(digits.data[0].reshape(8, 8), cmap='gray')\n",
    "plt.title(f\"Label: {digits.target[0]}\")\n",
    "plt.show()"
   ]
  },
  {
   "cell_type": "markdown",
   "metadata": {},
   "source": [
    "## step 2:  splt into training and validation sets"
   ]
  },
  {
   "cell_type": "code",
   "execution_count": 3,
   "metadata": {},
   "outputs": [
    {
     "name": "stdout",
     "output_type": "stream",
     "text": [
      "Training set: (instances, features)  (1617, 64)\n",
      "Validation set: (instances, features)  (180, 64)\n"
     ]
    }
   ],
   "source": [
    "from sklearn.model_selection import train_test_split\n",
    "\n",
    "X_train, X_val, y_train, y_val = train_test_split(digits[\"data\"],\n",
    "                                                                       digits[\"target\"],\n",
    "                                                                       test_size = 0.1, \n",
    "                                                                       random_state = 42\n",
    "                                                                       )\n",
    "\n",
    "print(\"Training set: (instances, features) \", X_train.shape)\n",
    "print(\"Validation set: (instances, features) \", X_val.shape)"
   ]
  },
  {
   "cell_type": "markdown",
   "metadata": {},
   "source": [
    "## step 3: Generate an instance of your NeuralNetwork class with a 64x16x64 autoencoder architecture.\n",
    "\n",
    "Generating an instance of NeuralNetwork class requires choosing the below parameters: \n",
    "- nn_arch (neural net architecture), including dimensions and activation function per layer\n",
    "- lr (learning rate)\n",
    "- batch_size (size of mini-batches used for training)\n",
    "- loss_function (mean squared error or binary cross entropy)\n",
    "- epochs (max number for training)\n",
    "\n",
    "### How did I select hyperparameter values?\n",
    "\n",
    "For **epochs**: I initially choose a large number (500) as training for this dataset doesn't take a prohibitatively long time for this each . I then doubled check that this number was sufficent by looking at the plot of validation and training loss per epoch. since the loss appears to converge (not change much over the last few epochs), then the number of epochs chosen was likely appropriate. **TO ADD**\n",
    "\n",
    "For **loss_function**: I chose mse instead of bce as the data we trying to predict / replicate is continous (i.e. a regression not classification problem) where this loss function is more appropriate.\n",
    "\n",
    "For **batch_size**: I knew I needed to choose a small enough batch size (relative to the size of the training dataset) so I could perform training within the memory constraints of my laptop. However, the batch size also needed to be large enough to prevent stochasticity from inhibiting training.  I thus took inspiration from the default auto setting in sklearn's MLPRegressor function (https://scikit-learn.org/stable/modules/generated/sklearn.neural_network.MLPRegressor.html#sklearn.neural_network.MLPRegressor), and initially set batch size as 200. I then measured the time it took for the model to train on my laptop, and the checked the below plot loss per epoch of training and validation. since the time it took for the model to train was not prohibitative, and the loss per epoch didn't 'bounce' around a lot, I thought this batch size was acceptable. However, in the future, performing a grid search to select a value would be ideal.   \n",
    "\n",
    "For **learning_rate**: I took inspiration from the default setting in sklearn's MLPRegressor function (https://scikit-learn.org/stable/modules/generated/sklearn.neural_network.MLPRegressor.html#sklearn.neural_network.MLPRegressor), and initially set the learning rate to be 0.001. similarly, in the future, performing a grid search with at least a few other learning rates (0.01, 0.001, 0.0001) to select a value would be ideal.  \n",
    "\n",
    "For **nn_arch**: since the input features varied outside of the range 0 and 1, I chose 'relu' as the activation function for the output layer to help the output data better resemble the input data ('sigmoid' would have restricted the output to be between 0 and 1). For all hidden layers, I set the activation function to be 'relu'. For the purposes of this assignment I chose the simplest neural archecture that would fufill 64x16x64 encoder architecture requirement. However, in the future it would be best to perform a grid search on the training set to investigate whether adding extra hidden layers would improve model performance. \n"
   ]
  },
  {
   "cell_type": "code",
   "execution_count": 14,
   "metadata": {},
   "outputs": [
    {
     "ename": "TypeError",
     "evalue": "'int' object is not subscriptable",
     "output_type": "error",
     "traceback": [
      "\u001b[1;31m---------------------------------------------------------------------------\u001b[0m",
      "\u001b[1;31mTypeError\u001b[0m                                 Traceback (most recent call last)",
      "Cell \u001b[1;32mIn[14], line 22\u001b[0m\n\u001b[0;32m     19\u001b[0m loss_function \u001b[38;5;241m=\u001b[39m \u001b[38;5;124m\"\u001b[39m\u001b[38;5;124mmse\u001b[39m\u001b[38;5;124m\"\u001b[39m\n\u001b[0;32m     21\u001b[0m \u001b[38;5;66;03m# Initialize the neural network structure\u001b[39;00m\n\u001b[1;32m---> 22\u001b[0m nn_model \u001b[38;5;241m=\u001b[39m \u001b[43mNeuralNetwork\u001b[49m\u001b[43m(\u001b[49m\u001b[43mnn_arch\u001b[49m\u001b[43m \u001b[49m\u001b[38;5;241;43m=\u001b[39;49m\u001b[43m \u001b[49m\u001b[43mnn_arch\u001b[49m\u001b[43m,\u001b[49m\u001b[43m \u001b[49m\u001b[43mlr\u001b[49m\u001b[43m \u001b[49m\u001b[38;5;241;43m=\u001b[39;49m\u001b[43m \u001b[49m\u001b[43mlr\u001b[49m\u001b[43m,\u001b[49m\u001b[43m \u001b[49m\u001b[43mepochs\u001b[49m\u001b[43m \u001b[49m\u001b[38;5;241;43m=\u001b[39;49m\u001b[43m \u001b[49m\u001b[43mepochs\u001b[49m\u001b[43m,\u001b[49m\u001b[43m \u001b[49m\u001b[43mbatch_size\u001b[49m\u001b[43m \u001b[49m\u001b[38;5;241;43m=\u001b[39;49m\u001b[43m \u001b[49m\u001b[43mbatch_size\u001b[49m\u001b[43m,\u001b[49m\u001b[43m \u001b[49m\u001b[43mloss_function\u001b[49m\u001b[38;5;241;43m=\u001b[39;49m\u001b[43mloss_function\u001b[49m\u001b[43m,\u001b[49m\n\u001b[0;32m     23\u001b[0m \u001b[43m                                              \u001b[49m\u001b[43mseed\u001b[49m\u001b[43m \u001b[49m\u001b[38;5;241;43m=\u001b[39;49m\u001b[43m \u001b[49m\u001b[38;5;241;43m42\u001b[39;49m\n\u001b[0;32m     24\u001b[0m \u001b[43m                                              \u001b[49m\u001b[43m)\u001b[49m\n",
      "File \u001b[1;32mc:\\Users\\ijfbe\\SSD_Documents\\final-nn\\nn\\nn.py:52\u001b[0m, in \u001b[0;36mNeuralNetwork.__init__\u001b[1;34m(self, nn_arch, lr, seed, batch_size, epochs, loss_function)\u001b[0m\n\u001b[0;32m     49\u001b[0m \u001b[38;5;28mself\u001b[39m\u001b[38;5;241m.\u001b[39m_batch_size \u001b[38;5;241m=\u001b[39m batch_size\n\u001b[0;32m     51\u001b[0m \u001b[38;5;66;03m# Initialize the parameter dictionary for use in training\u001b[39;00m\n\u001b[1;32m---> 52\u001b[0m \u001b[38;5;28mself\u001b[39m\u001b[38;5;241m.\u001b[39m_param_dict \u001b[38;5;241m=\u001b[39m \u001b[38;5;28;43mself\u001b[39;49m\u001b[38;5;241;43m.\u001b[39;49m\u001b[43m_init_params\u001b[49m\u001b[43m(\u001b[49m\u001b[43m)\u001b[49m\n",
      "File \u001b[1;32mc:\\Users\\ijfbe\\SSD_Documents\\final-nn\\nn\\nn.py:76\u001b[0m, in \u001b[0;36mNeuralNetwork._init_params\u001b[1;34m(self)\u001b[0m\n\u001b[0;32m     74\u001b[0m \u001b[38;5;28;01mfor\u001b[39;00m idx, layer \u001b[38;5;129;01min\u001b[39;00m \u001b[38;5;28menumerate\u001b[39m(\u001b[38;5;28mself\u001b[39m\u001b[38;5;241m.\u001b[39march):\n\u001b[0;32m     75\u001b[0m     layer_idx \u001b[38;5;241m=\u001b[39m idx \u001b[38;5;241m+\u001b[39m \u001b[38;5;241m1\u001b[39m\n\u001b[1;32m---> 76\u001b[0m     input_dim \u001b[38;5;241m=\u001b[39m \u001b[43mlayer\u001b[49m\u001b[43m[\u001b[49m\u001b[38;5;124;43m'\u001b[39;49m\u001b[38;5;124;43minput_dim\u001b[39;49m\u001b[38;5;124;43m'\u001b[39;49m\u001b[43m]\u001b[49m\n\u001b[0;32m     77\u001b[0m     output_dim \u001b[38;5;241m=\u001b[39m layer[\u001b[38;5;124m'\u001b[39m\u001b[38;5;124moutput_dim\u001b[39m\u001b[38;5;124m'\u001b[39m]\n\u001b[0;32m     78\u001b[0m     param_dict[\u001b[38;5;124m'\u001b[39m\u001b[38;5;124mW\u001b[39m\u001b[38;5;124m'\u001b[39m \u001b[38;5;241m+\u001b[39m \u001b[38;5;28mstr\u001b[39m(layer_idx)] \u001b[38;5;241m=\u001b[39m np\u001b[38;5;241m.\u001b[39mrandom\u001b[38;5;241m.\u001b[39mrandn(output_dim, input_dim) \u001b[38;5;241m*\u001b[39m \u001b[38;5;241m0.1\u001b[39m\n",
      "\u001b[1;31mTypeError\u001b[0m: 'int' object is not subscriptable"
     ]
    }
   ],
   "source": [
    "# Define the hyperparameters\n",
    "\n",
    "# neural network architecture\n",
    "# needs to be a 64x16x64 autoencoder architecture\n",
    "nn_arch = {2: [{\"input_dim\": 64, \"output_dim\": 16, \"activation\": \"relu\"},\n",
    "                      {\"input_dim\": 16, \"output_dim\": 64, \"activation\": \"relu\"}]\n",
    "                  }\n",
    "\n",
    "#batch size\n",
    "batch_size = 200\n",
    "\n",
    "# learning rate\n",
    "lr = 0.001\n",
    "\n",
    "# number of epochs\n",
    "epochs = 500\n",
    "\n",
    "# loss function\n",
    "loss_function = \"mse\"\n",
    "\n",
    "# Initialize the neural network structure\n",
    "nn_model = NeuralNetwork(nn_arch = nn_arch, lr = lr, epochs = epochs, batch_size = batch_size, loss_function=loss_function,\n",
    "                                              seed = 42\n",
    "                                              )"
   ]
  },
  {
   "cell_type": "markdown",
   "metadata": {},
   "source": [
    "## step 4: Train your autoencoder on the training data."
   ]
  },
  {
   "cell_type": "code",
   "execution_count": null,
   "metadata": {},
   "outputs": [],
   "source": [
    "# Fit / train the model\n",
    "per_epoch_loss_train, per_epoch_loss_val = nn_model.fit(X_train, y_train, X_val, y_val)"
   ]
  },
  {
   "cell_type": "markdown",
   "metadata": {},
   "source": [
    "## step 5: Plot your training and validation loss by epoch."
   ]
  },
  {
   "cell_type": "code",
   "execution_count": null,
   "metadata": {},
   "outputs": [],
   "source": [
    "#below code adapted from wk 7 regression logreg.py  \n",
    "\n",
    "fig, axs = plt.subplots(2, figsize=(8, 8))\n",
    "fig.suptitle('Training Loss History')\n",
    "axs[0].plot(np.arange(len(per_epoch_loss_train)), per_epoch_loss_train)\n",
    "axs[0].set_title('Training')\n",
    "axs[1].plot(np.arange(len(per_epoch_loss_vall)), per_epoch_loss_val)\n",
    "axs[1].set_title('Validation')\n",
    "plt.xlabel('Epoch')\n",
    "fig.tight_layout()\n",
    "plt.show()"
   ]
  },
  {
   "cell_type": "markdown",
   "metadata": {},
   "source": [
    "## step 6: Quantify your average reconstruction error over the validation set."
   ]
  },
  {
   "cell_type": "code",
   "execution_count": null,
   "metadata": {},
   "outputs": [],
   "source": [
    "print(per_epoch_loss_val[-1])"
   ]
  },
  {
   "cell_type": "markdown",
   "metadata": {},
   "source": [
    "## step 7: Explain why you chose the hyperparameter values you did.\n",
    "\n",
    "see text under step 3, generate an instance of your NeuralNetwork class with a 64x16x64 autoencoder architecture."
   ]
  }
 ],
 "metadata": {
  "kernelspec": {
   "display_name": "GMM-Tute",
   "language": "python",
   "name": "python3"
  },
  "language_info": {
   "codemirror_mode": {
    "name": "ipython",
    "version": 3
   },
   "file_extension": ".py",
   "mimetype": "text/x-python",
   "name": "python",
   "nbconvert_exporter": "python",
   "pygments_lexer": "ipython3",
   "version": "3.12.8"
  }
 },
 "nbformat": 4,
 "nbformat_minor": 2
}
